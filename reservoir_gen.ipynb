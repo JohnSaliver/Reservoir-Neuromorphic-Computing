{
 "cells": [
  {
   "cell_type": "code",
   "execution_count": 1,
   "metadata": {},
   "outputs": [],
   "source": [
    "import numpy as np\n",
    "import brian2 as br\n",
    "import matplotlib.pyplot as plt\n",
    "from time import time\n",
    "from Reservoir.reservoir import Reservoir"
   ]
  },
  {
   "cell_type": "code",
   "execution_count": 12,
   "metadata": {},
   "outputs": [],
   "source": [
    "res = Reservoir(n_neurons_side=3)\r\n",
    "res.init_connection_matrix()"
   ]
  },
  {
   "cell_type": "code",
   "execution_count": 45,
   "metadata": {},
   "outputs": [],
   "source": [
    "dyn_eqs = \"\"\"\r\n",
    "dv/dt = (0.04*v**2 + 5*v + 140 - u + I +j)/t2 : 1\r\n",
    "du/dt = a*(b*v-u)/t2 : 1\r\n",
    "dj/dt = j/tau : 1\r\n",
    "I = 0 : 1\r\n",
    "a : 1\r\n",
    "b : 1\r\n",
    "d : 1\r\n",
    "p : 1\r\n",
    "t2 : second\r\n",
    "tau : second\r\n",
    "\"\"\"\r\n",
    "reset_eqs = \"\"\"\r\n",
    "v = -65\r\n",
    "u = u + d\r\n",
    "\"\"\"\r\n"
   ]
  },
  {
   "cell_type": "code",
   "execution_count": 46,
   "metadata": {},
   "outputs": [],
   "source": [
    "neuron_group = br.NeuronGroup(res.n_neurons_side**3, dyn_eqs, threshold='v>30', reset=reset_eqs)\r\n",
    "neuron_group.a = [0.02 if n=='ex' else 0.1 for n in res.types]\r\n",
    "neuron_group.b = [0.2 for n in res.types]\r\n",
    "neuron_group.d = [8 if n=='ex' else 2 for n in res.types]\r\n",
    "neuron_group.tau = [3*br.ms if n=='ex' else 6*br.ms for n in res.types]\r\n",
    "neuron_group.t2 = [1*br.units.second for n in res.types]\r\n",
    "neuron_group.p = [0.25 if n=='ex' else -0.5 for n in res.types]\r\n",
    "\r\n",
    "S = br.Synapses(neuron_group, neuron_group, on_pre='j_post += p_pre')\r\n",
    "sources, targets = res.M.nonzero()\r\n",
    "S.connect(i=sources, j=targets)\r\n"
   ]
  },
  {
   "cell_type": "code",
   "execution_count": 47,
   "metadata": {},
   "outputs": [
    {
     "name": "stderr",
     "output_type": "stream",
     "text": [
      "INFO       No numerical integration method specified for group 'neurongroup_1', using method 'euler' (took 0.01s, trying other methods took 0.02s). [brian2.stateupdaters.base.method_choice]\n"
     ]
    }
   ],
   "source": [
    "M = br.SpikeMonitor(neuron_group)\r\n",
    "state_m = br.StateMonitor(neuron_group, ['v', 'u'], record=True)\r\n",
    "br.run(200*br.ms)"
   ]
  },
  {
   "cell_type": "code",
   "execution_count": 62,
   "metadata": {},
   "outputs": [
    {
     "data": {
      "text/plain": "<matplotlib.legend.Legend at 0x1a396fad340>"
     },
     "execution_count": 62,
     "metadata": {},
     "output_type": "execute_result"
    },
    {
     "data": {
      "image/png": "[encoded data removed]",
      "text/plain": "<Figure size 432x288 with 1 Axes>"
     },
     "metadata": {
      "needs_background": "light"
     },
     "output_type": "display_data"
    }
   ],
   "source": [
    "#plt.plot(M.t/br.ms, M.i, '.k')\r\n",
    "plt.plot(state_m.t/br.ms, state_m.v[8])\r\n",
    "plt.plot(state_m.t/br.ms, state_m.u[3])\r\n",
    "plt.legend(['v', 'u'])"
   ]
  },
  {
   "cell_type": "code",
   "execution_count": 53,
   "metadata": {},
   "outputs": [
    {
     "data": {
      "text/plain": "'inh'"
     },
     "execution_count": 53,
     "metadata": {},
     "output_type": "execute_result"
    }
   ],
   "source": [
    "res.types[3]"
   ]
  },
  {
   "cell_type": "code",
   "execution_count": 27,
   "metadata": {},
   "outputs": [
    {
     "data": {
      "text/plain": "<matplotlib.image.AxesImage at 0x1a393062400>"
     },
     "execution_count": 27,
     "metadata": {},
     "output_type": "execute_result"
    },
    {
     "data": {
      "image/png": "[encoded data removed]",
      "text/plain": "<Figure size 432x288 with 1 Axes>"
     },
     "metadata": {
      "needs_background": "light"
     },
     "output_type": "display_data"
    }
   ],
   "source": [
    "plt.imshow(res.M)"
   ]
  }
 ],
 "metadata": {
  "kernelspec": {
   "display_name": "Python 3.8.5 64-bit (conda)",
   "name": "python385jvsc74a57bd0bfae3289c5bc4176813b446ea14ef17824238ab20835ca5f0635f33dc9fb0e31"
  },
  "language_info": {
   "codemirror_mode": {
    "name": "ipython",
    "version": 3
   },
   "file_extension": ".py",
   "mimetype": "text/x-python",
   "name": "python",
   "nbconvert_exporter": "python",
   "pygments_lexer": "ipython3",
   "version": "3.8.5"
  },
  "orig_nbformat": 2
 },
 "nbformat": 4,
 "nbformat_minor": 2
}